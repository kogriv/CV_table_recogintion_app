{
 "cells": [
  {
   "cell_type": "code",
   "execution_count": 2,
   "id": "df9eab76",
   "metadata": {},
   "outputs": [],
   "source": [
    "# !pip install pytesseract"
   ]
  },
  {
   "cell_type": "code",
   "execution_count": 3,
   "id": "7dd5bd66",
   "metadata": {},
   "outputs": [
    {
     "name": "stdout",
     "output_type": "stream",
     "text": [
      "Defaulting to user installation because normal site-packages is not writeable\n",
      "Requirement already satisfied: pillow in c:\\programdata\\anaconda3\\lib\\site-packages (9.2.0)\n"
     ]
    }
   ],
   "source": [
    "# !pip install pillow"
   ]
  },
  {
   "cell_type": "code",
   "execution_count": 4,
   "id": "9f44344e",
   "metadata": {},
   "outputs": [],
   "source": [
    "import pytesseract\n",
    "from PIL import Image"
   ]
  },
  {
   "cell_type": "code",
   "execution_count": 7,
   "id": "47806390",
   "metadata": {},
   "outputs": [],
   "source": [
    "pytesseract.pytesseract.tesseract_cmd = r'C:\\Program Files\\Tesseract-OCR\\tesseract.exe'"
   ]
  },
  {
   "cell_type": "code",
   "execution_count": 8,
   "id": "03c3e8c4",
   "metadata": {},
   "outputs": [],
   "source": [
    "# Загрузка изображения с текстом\n",
    "image = Image.open(\"C:/0/t/405/213950.jpg\")"
   ]
  },
  {
   "cell_type": "code",
   "execution_count": 9,
   "id": "7fadf7f7",
   "metadata": {},
   "outputs": [],
   "source": [
    "# Распознавание текста\n",
    "string = pytesseract.image_to_string(image, lang='rus')"
   ]
  },
  {
   "cell_type": "code",
   "execution_count": 10,
   "id": "713a5872",
   "metadata": {},
   "outputs": [
    {
     "name": "stdout",
     "output_type": "stream",
     "text": [
      "Код формы по ОКУД\n",
      "\n",
      "Министерство здравоохранения дерма дыбы\n",
      "В. ь Код учреждения по ОКПО 04044017\n",
      "Россиискои Федерации | Фианиа Мёдицинская документация\n",
      "\n",
      "Форма №405-05/у\n",
      "\n",
      "Волгоградская обл ОЮДЖе т Утверждена приказом\n",
      "(наименование субъекта РФ) 80; Минздравсоцразвития России\n",
      "от 31 марта 2005 г №246\n",
      "\n",
      "Филиал №2 ГБУЗ \"ВОЦК*\", г.\n",
      "Волжский\n",
      "\n",
      "(наименование учреждения службы крови)\n",
      "\n",
      "УЧЕТНАЯ КАРТОЧКА ДОНОРА № 108788\n",
      "\n",
      "ивного, резерва, родственника)\n",
      "\n",
      "ИАА 55259\n",
      "\n",
      "Всего донаций 22.\n",
      "\n",
      "Г!\n",
      "‚м\n",
      "\n",
      "Иа ЭМедрегистратор` о х, й 5) 7 (подпис а\n",
      "СТ Е, бе = эм 5 введено в базу `\\.\n",
      "2“, СПАРе ВТ, 7 ий В С >\n",
      "\\= > ОТВЕТСТВеННОВ ЛИН > ИСИ / р” ись) т\n",
      "с > \\ С 5 ОМА 27 7; : 0 4.\n",
      "\n",
      "57\n",
      "\n",
      "ре и >> Х\n",
      "у ти. Я а АЯ\n",
      "ь, . ЕЁ\n",
      "\n",
      "тмётки о взятии крови (плазмы, клеток крови) 4 <)\n",
      ": 395 х\n",
      "\n",
      "й\n",
      "> —\n",
      "же\n",
      "\n",
      "р\n",
      "<\n",
      "\\\n",
      "\n",
      "и\" р\n",
      "#\n",
      "и ы\\ \\\n",
      "7\n",
      "ОХ)\n",
      "и &\n",
      "их\n",
      "СУ ИИ\n",
      "и ь Г\n",
      "ут < ^^\n",
      "а%\n",
      "РАС р\n",
      "Я 1\n",
      "7\n",
      "| ь 5. |\n",
      "А | , у\n",
      "| к. $54\n",
      "| в У\n",
      "\\ > 5» \\\n",
      "=, ‚>.\n",
      "А \\\n",
      "в <\n",
      "00 и\n",
      "\\ о.\n",
      "\n",
      "у\n",
      "\n",
      "дон-ва\n",
      "О\n",
      "при да || м о: о\n",
      "ев о оао чб | 0 | |\n",
      "002016 | код (6) | 40 |  [1941.2020 | кд | 40 |\n",
      "05102016 | краб) | 40 | [22012021 | ква | 40 | | |\n",
      "06.02.2019 (11.\n",
      "05072019 | кри (бв) | 45 | = [04042022 | киа 6в) | 45 | [| |\n",
      "24012020 | кд(6в) | 45 | = | 22.03.2023 | крд(бв) ны\n",
      "И\n",
      "\n",
      "х\n",
      "\n",
      "прави ооноаооанианицинирии м и инь\n",
      "55.\n",
      "\n",
      "ия\n",
      "\n",
      "Отпечазано, 'в АИСТ 22 марта 2023 года 10:54, Медицинский регистратор Трохим\n",
      "\n"
     ]
    }
   ],
   "source": [
    "# Вывод распознанного текста в консоль\n",
    "print(string)"
   ]
  },
  {
   "cell_type": "code",
   "execution_count": null,
   "id": "bd95d138",
   "metadata": {},
   "outputs": [],
   "source": []
  }
 ],
 "metadata": {
  "kernelspec": {
   "display_name": "Python 3 (ipykernel)",
   "language": "python",
   "name": "python3"
  },
  "language_info": {
   "codemirror_mode": {
    "name": "ipython",
    "version": 3
   },
   "file_extension": ".py",
   "mimetype": "text/x-python",
   "name": "python",
   "nbconvert_exporter": "python",
   "pygments_lexer": "ipython3",
   "version": "3.9.13"
  }
 },
 "nbformat": 4,
 "nbformat_minor": 5
}
