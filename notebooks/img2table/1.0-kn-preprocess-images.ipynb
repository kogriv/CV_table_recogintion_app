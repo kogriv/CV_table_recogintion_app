{
 "cells": [
  {
   "attachments": {},
   "cell_type": "markdown",
   "metadata": {},
   "source": [
    "Ноутбук с функцией для предобработки изображений.\n",
    "\n",
    "**ВАЖНО:** Измените переменные FOLDER_DIR и SAVE_TO под свои нужды!"
   ]
  },
  {
   "cell_type": "code",
   "execution_count": 4,
   "metadata": {},
   "outputs": [],
   "source": [
    "# импорт библиотек\n",
    "import os\n",
    "import cv2\n",
    "\n",
    "# импорт библиотек текущего модуля\n",
    "from PIL import (\n",
    "    Image, \n",
    "    ImageOps, \n",
    "    ImageEnhance,\n",
    "    ImageFilter\n",
    "    )\n",
    "from os import listdir\n",
    "\n",
    "# переменные\n",
    "FOLDER_DIR = 'C:/Users/Nikolaj/Desktop/Workshop/Tables/'\n",
    "SAVE_TO = 'C:/Users/Nikolaj/Desktop/Workshop/Preprocessed/'"
   ]
  },
  {
   "cell_type": "code",
   "execution_count": 11,
   "metadata": {},
   "outputs": [],
   "source": [
    "def preprocess_image(image_path):\n",
    "    \"\"\"Функция предобрабатывает входные изображения, делая их бинарными\n",
    "\n",
    "    Args:\n",
    "        image_path (_type_): Путь до изображения\n",
    "\n",
    "    Returns:\n",
    "        _type_: Возвращает предобработанное изображение\n",
    "    \"\"\"\n",
    "    # Загрузка изображения\n",
    "    image = cv2.imread(image_path)\n",
    "\n",
    "    # Масштабирование\n",
    "    scaled_image = cv2.resize(image, None, fx=2, fy=2, interpolation=cv2.INTER_CUBIC)\n",
    "    \n",
    "    # Оттенки серого\n",
    "    gray_image = cv2.cvtColor(scaled_image, cv2.COLOR_BGR2GRAY)\n",
    "\n",
    "    # Размытие\n",
    "    blurred_image = cv2.GaussianBlur(gray_image, (7, 7), 0)\n",
    "\n",
    "    # Бинаризация\n",
    "    thresholded_image = cv2.adaptiveThreshold(blurred_image, 255, cv2.ADAPTIVE_THRESH_GAUSSIAN_C, cv2.THRESH_BINARY, 21, 4)\n",
    "\n",
    "\n",
    "    return thresholded_image"
   ]
  },
  {
   "cell_type": "code",
   "execution_count": 4,
   "metadata": {},
   "outputs": [
    {
     "ename": "",
     "evalue": "",
     "output_type": "error",
     "traceback": [
      "\u001b[1;31mThe Kernel crashed while executing code in the the current cell or a previous cell. Please review the code in the cell(s) to identify a possible cause of the failure. Click <a href='https://aka.ms/vscodeJupyterKernelCrash'>here</a> for more info. View Jupyter <a href='command:jupyter.viewOutput'>log</a> for further details."
     ]
    }
   ],
   "source": [
    "# тест на одном изображении\n",
    "img = preprocesss_image('C:/Users/Nikolaj/Desktop/Workshop/Tables/141899.jpg')\n",
    "cv2.imshow('kek', img)"
   ]
  },
  {
   "cell_type": "code",
   "execution_count": 9,
   "metadata": {},
   "outputs": [],
   "source": [
    "# Формируем список с именами справок\n",
    "images = [img for img in os.listdir(FOLDER_DIR) if img.endswith('.jpg')]\n",
    "\n",
    "# применяем функцию ко всем изображениям и сохраняем их в выбранную директорию\n",
    "for i in range(len(images)):\n",
    "    preprocessed_image = preprocess_image(FOLDER_DIR + images[i])\n",
    "    cv2.imwrite(SAVE_TO + images[i], preprocessed_image)"
   ]
  }
 ],
 "metadata": {
  "kernelspec": {
   "display_name": "jupyter",
   "language": "python",
   "name": "python3"
  },
  "language_info": {
   "codemirror_mode": {
    "name": "ipython",
    "version": 3
   },
   "file_extension": ".py",
   "mimetype": "text/x-python",
   "name": "python",
   "nbconvert_exporter": "python",
   "pygments_lexer": "ipython3",
   "version": "3.9.16"
  },
  "orig_nbformat": 4
 },
 "nbformat": 4,
 "nbformat_minor": 2
}
