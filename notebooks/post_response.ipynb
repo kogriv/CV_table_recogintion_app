{
 "cells": [
  {
   "cell_type": "code",
   "execution_count": 68,
   "id": "70cc1b03",
   "metadata": {},
   "outputs": [],
   "source": [
    "import requests\n",
    "import os"
   ]
  },
  {
   "cell_type": "markdown",
   "id": "b1045856",
   "metadata": {},
   "source": [
    "Зададим входные данные для подключения к вебсерверу и отправке запроса"
   ]
  },
  {
   "cell_type": "code",
   "execution_count": 183,
   "id": "6cbe4be4",
   "metadata": {},
   "outputs": [],
   "source": [
    "# Установите URL-адрес веб-сервера\n",
    "url = 'http://localhost:8010/ocr'\n",
    "\n",
    "# Установите путь к файлу изображения\n",
    "# image_path = 'C:/0/405/s/204119.jpg'\n",
    "image_file = 'C:/0/405/s/256838.jpg'\n",
    "filename, _ = os.path.splitext(os.path.basename(image_file))\n",
    "csv_filename = f'{filename}.csv'"
   ]
  },
  {
   "cell_type": "markdown",
   "id": "860fa9c1",
   "metadata": {},
   "source": [
    "Поскольку моделью предполагается разный механизм обработки сканов и не_сканов, укаэем это явно:\n",
    "\n",
    "сканы - `scan`\n",
    "\n",
    "не скан - `not scan`"
   ]
  },
  {
   "cell_type": "code",
   "execution_count": 184,
   "id": "5258beb3",
   "metadata": {},
   "outputs": [],
   "source": [
    "url_with_params = f\"{url}?is_scan=not scan\""
   ]
  },
  {
   "cell_type": "code",
   "execution_count": 185,
   "id": "2be2c1bb",
   "metadata": {},
   "outputs": [],
   "source": [
    "# Открываем файл и отправляем запрос с помощью multipart/form-data\n",
    "with open(image_file, 'rb') as file:\n",
    "    files = {'file': file}\n",
    "    response = requests.post(url_with_params, files=files)"
   ]
  },
  {
   "cell_type": "code",
   "execution_count": 186,
   "id": "f0768a18",
   "metadata": {},
   "outputs": [
    {
     "name": "stdout",
     "output_type": "stream",
     "text": [
      "\n"
     ]
    }
   ],
   "source": [
    "# вывод ответа от сервиса\n",
    "print(response.text)"
   ]
  },
  {
   "cell_type": "markdown",
   "id": "14580156",
   "metadata": {},
   "source": [
    "Запись CSV файла по указанному адресу"
   ]
  },
  {
   "cell_type": "code",
   "execution_count": 188,
   "id": "66e1c49e",
   "metadata": {},
   "outputs": [
    {
     "name": "stdout",
     "output_type": "stream",
     "text": [
      "CSV файл сохранен: C:\\0\\405\\output\\256838.csv\n"
     ]
    }
   ],
   "source": [
    "output_dir = r'C:\\0\\405\\output'\n",
    "# Проверяем статус ответа\n",
    "if response.status_code == 200:\n",
    "    # Сохраняем CSV файл в директорию output_dir\n",
    "    csv_file = os.path.join(output_dir, csv_filename)\n",
    "    \n",
    "    # Сохраняем файл\n",
    "    with open(csv_file, 'wb') as file:\n",
    "        file.write(response.content)\n",
    "    \n",
    "    print(f'CSV файл сохранен: {csv_file}')\n",
    "else:\n",
    "    print('Ошибка при получении ответа от сервера')"
   ]
  },
  {
   "cell_type": "code",
   "execution_count": null,
   "id": "3e629f69",
   "metadata": {},
   "outputs": [],
   "source": []
  }
 ],
 "metadata": {
  "kernelspec": {
   "display_name": "Python 3 (ipykernel)",
   "language": "python",
   "name": "python3"
  },
  "language_info": {
   "codemirror_mode": {
    "name": "ipython",
    "version": 3
   },
   "file_extension": ".py",
   "mimetype": "text/x-python",
   "name": "python",
   "nbconvert_exporter": "python",
   "pygments_lexer": "ipython3",
   "version": "3.10.9"
  }
 },
 "nbformat": 4,
 "nbformat_minor": 5
}
